{
 "cells": [
  {
   "cell_type": "code",
   "execution_count": 1,
   "id": "04fcd580",
   "metadata": {},
   "outputs": [],
   "source": [
    "import pandas as pd"
   ]
  },
  {
   "cell_type": "code",
   "execution_count": 2,
   "id": "c8d64ba0",
   "metadata": {},
   "outputs": [],
   "source": [
    "import numpy as np"
   ]
  },
  {
   "cell_type": "code",
   "execution_count": 3,
   "id": "55977840",
   "metadata": {},
   "outputs": [],
   "source": [
    "healthy_lifestyle=pd.read_csv('healthy_lifestyle_city_2021.csv')"
   ]
  },
  {
   "cell_type": "code",
   "execution_count": 4,
   "id": "a5c69e99",
   "metadata": {},
   "outputs": [
    {
     "name": "stdout",
     "output_type": "stream",
     "text": [
      "         City  Rank Sunshine hours(City) Cost of a bottle of water(City)  \\\n",
      "0   Amsterdam     1                 1858                           £1.92   \n",
      "1      Sydney     2                 2636                           £1.48   \n",
      "2      Vienna     3                 1884                           £1.94   \n",
      "3   Stockholm     4                 1821                           £1.72   \n",
      "4  Copenhagen     5                 1630                           £2.19   \n",
      "\n",
      "  Obesity levels(Country)  Life expectancy(years) (Country)  \\\n",
      "0                  20.40%                              81.2   \n",
      "1                  29.00%                              82.1   \n",
      "2                  20.10%                              81.0   \n",
      "3                  20.60%                              81.8   \n",
      "4                  19.70%                              79.8   \n",
      "\n",
      "  Pollution(Index score) (City) Annual avg. hours worked  \\\n",
      "0                         30.93                     1434   \n",
      "1                         26.86                     1712   \n",
      "2                         17.33                     1501   \n",
      "3                         19.63                     1452   \n",
      "4                         21.24                     1380   \n",
      "\n",
      "   Happiness levels(Country)  Outdoor activities(City)  \\\n",
      "0                       7.44                       422   \n",
      "1                       7.22                       406   \n",
      "2                       7.29                       132   \n",
      "3                       7.35                       129   \n",
      "4                       7.64                       154   \n",
      "\n",
      "   Number of take out places(City) Cost of a monthly gym membership(City)  \n",
      "0                             1048                                 £34.90  \n",
      "1                             1103                                 £41.66  \n",
      "2                             1008                                 £25.74  \n",
      "3                              598                                 £37.31  \n",
      "4                              523                                 £32.53  \n"
     ]
    }
   ],
   "source": [
    "print(healthy_lifestyle.head())"
   ]
  },
  {
   "cell_type": "code",
   "execution_count": 6,
   "id": "6f18f4e5",
   "metadata": {},
   "outputs": [
    {
     "name": "stdout",
     "output_type": "stream",
     "text": [
      "(44, 12)\n"
     ]
    }
   ],
   "source": [
    "print(healthy_lifestyle.shape)"
   ]
  },
  {
   "cell_type": "code",
   "execution_count": 7,
   "id": "f72253cf",
   "metadata": {},
   "outputs": [],
   "source": [
    "missing_values_count = healthy_lifestyle.isnull().sum()"
   ]
  },
  {
   "cell_type": "code",
   "execution_count": 8,
   "id": "8270e7f4",
   "metadata": {},
   "outputs": [
    {
     "name": "stdout",
     "output_type": "stream",
     "text": [
      "City                                      0\n",
      "Rank                                      0\n",
      "Sunshine hours(City)                      0\n",
      "Cost of a bottle of water(City)           0\n",
      "Obesity levels(Country)                   0\n",
      "Life expectancy(years) (Country)          0\n",
      "Pollution(Index score) (City)             0\n",
      "Annual avg. hours worked                  0\n",
      "Happiness levels(Country)                 0\n",
      "Outdoor activities(City)                  0\n",
      "Number of take out places(City)           0\n",
      "Cost of a monthly gym membership(City)    0\n",
      "dtype: int64\n"
     ]
    }
   ],
   "source": [
    "print(missing_values_count)"
   ]
  },
  {
   "cell_type": "code",
   "execution_count": 10,
   "id": "53f7555c",
   "metadata": {},
   "outputs": [
    {
     "name": "stdout",
     "output_type": "stream",
     "text": [
      "City                               0\n",
      "Rank                               0\n",
      "Sunshine hours(City)               0\n",
      "Cost of a bottle of water(City)    0\n",
      "Obesity levels(Country)            0\n",
      "dtype: int64\n"
     ]
    }
   ],
   "source": [
    "print(missing_values_count[0:5])"
   ]
  },
  {
   "cell_type": "code",
   "execution_count": null,
   "id": "ced2a948",
   "metadata": {},
   "outputs": [],
   "source": []
  }
 ],
 "metadata": {
  "kernelspec": {
   "display_name": "Python 3",
   "language": "python",
   "name": "python3"
  },
  "language_info": {
   "codemirror_mode": {
    "name": "ipython",
    "version": 3
   },
   "file_extension": ".py",
   "mimetype": "text/x-python",
   "name": "python",
   "nbconvert_exporter": "python",
   "pygments_lexer": "ipython3",
   "version": "3.8.8"
  }
 },
 "nbformat": 4,
 "nbformat_minor": 5
}
