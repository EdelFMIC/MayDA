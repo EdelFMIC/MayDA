{
 "cells": [
  {
   "cell_type": "code",
   "execution_count": 1,
   "id": "176b1da3-3ee6-40ba-92b8-17acfa56bf87",
   "metadata": {},
   "outputs": [],
   "source": [
    "a=3\n",
    "b=4"
   ]
  },
  {
   "cell_type": "code",
   "execution_count": 2,
   "id": "682b77bc-1b97-4268-87be-94c1b71cc1e7",
   "metadata": {},
   "outputs": [
    {
     "name": "stdout",
     "output_type": "stream",
     "text": [
      "7\n"
     ]
    }
   ],
   "source": [
    "add=a+b\n",
    "print (add)"
   ]
  },
  {
   "cell_type": "code",
   "execution_count": 3,
   "id": "b6764697-fa12-400d-af0a-a8f4080783b6",
   "metadata": {},
   "outputs": [
    {
     "name": "stdout",
     "output_type": "stream",
     "text": [
      "-1\n"
     ]
    }
   ],
   "source": [
    "sub=a-b\n",
    "print (sub)"
   ]
  },
  {
   "cell_type": "code",
   "execution_count": 4,
   "id": "853a9150-3464-414c-9cc8-c023e8d4d2e1",
   "metadata": {},
   "outputs": [
    {
     "name": "stdout",
     "output_type": "stream",
     "text": [
      "12\n"
     ]
    }
   ],
   "source": [
    "mul=a*b\n",
    "print (mul)"
   ]
  },
  {
   "cell_type": "code",
   "execution_count": 5,
   "id": "3652d768-c217-4dc1-910b-06c2418f9ce3",
   "metadata": {},
   "outputs": [
    {
     "name": "stdout",
     "output_type": "stream",
     "text": [
      "0.75\n"
     ]
    }
   ],
   "source": [
    "divide=a/b\n",
    "print (divide)"
   ]
  },
  {
   "cell_type": "code",
   "execution_count": 6,
   "id": "9a51b4dd-094f-4839-a90c-11379ad31008",
   "metadata": {},
   "outputs": [
    {
     "name": "stdout",
     "output_type": "stream",
     "text": [
      "0\n"
     ]
    }
   ],
   "source": [
    "forward=a//b\n",
    "print (forward)"
   ]
  },
  {
   "cell_type": "code",
   "execution_count": 7,
   "id": "58115dfb-61c2-4f18-bbe8-db4971da7591",
   "metadata": {},
   "outputs": [
    {
     "name": "stdout",
     "output_type": "stream",
     "text": [
      "81\n"
     ]
    }
   ],
   "source": [
    "stars=a**b\n",
    "print (stars)"
   ]
  },
  {
   "cell_type": "code",
   "execution_count": 8,
   "id": "7a067c20-a669-4baf-bc37-5f99cd83c321",
   "metadata": {},
   "outputs": [
    {
     "name": "stdout",
     "output_type": "stream",
     "text": [
      "3\n"
     ]
    }
   ],
   "source": [
    "percent=a%b\n",
    "print (percent)"
   ]
  },
  {
   "cell_type": "code",
   "execution_count": null,
   "id": "31f0103a-33bf-457c-b964-cfa98a651c36",
   "metadata": {},
   "outputs": [],
   "source": []
  }
 ],
 "metadata": {
  "kernelspec": {
   "display_name": "Python 3",
   "language": "python",
   "name": "python3"
  },
  "language_info": {
   "codemirror_mode": {
    "name": "ipython",
    "version": 3
   },
   "file_extension": ".py",
   "mimetype": "text/x-python",
   "name": "python",
   "nbconvert_exporter": "python",
   "pygments_lexer": "ipython3",
   "version": "3.8.8"
  }
 },
 "nbformat": 4,
 "nbformat_minor": 5
}
